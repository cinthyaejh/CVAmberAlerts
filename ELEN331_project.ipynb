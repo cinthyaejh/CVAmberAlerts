{
  "nbformat": 4,
  "nbformat_minor": 0,
  "metadata": {
    "colab": {
      "provenance": [],
      "gpuType": "T4",
      "authorship_tag": "ABX9TyPGTcv4p7a+Z2g9Z0pACpVY",
      "include_colab_link": true
    },
    "kernelspec": {
      "name": "python3",
      "display_name": "Python 3"
    },
    "language_info": {
      "name": "python"
    },
    "widgets": {
      "application/vnd.jupyter.widget-state+json": {
        "41a481c5a34f46d38436b3d0bd96c145": {
          "model_module": "@jupyter-widgets/controls",
          "model_name": "FileUploadModel",
          "model_module_version": "1.5.0",
          "state": {
            "_counter": 1,
            "_dom_classes": [],
            "_model_module": "@jupyter-widgets/controls",
            "_model_module_version": "1.5.0",
            "_model_name": "FileUploadModel",
            "_view_count": null,
            "_view_module": "@jupyter-widgets/controls",
            "_view_module_version": "1.5.0",
            "_view_name": "FileUploadView",
            "accept": "image/*",
            "button_style": "",
            "data": [
              null
            ],
            "description": "Upload",
            "description_tooltip": null,
            "disabled": false,
            "error": "",
            "icon": "upload",
            "layout": "IPY_MODEL_0638457b13c54546bbfa7a1de5c14dd0",
            "metadata": [
              {
                "name": "test4(not full plate).jpeg",
                "type": "image/jpeg",
                "size": 23490,
                "lastModified": 1710921728853
              }
            ],
            "multiple": false,
            "style": "IPY_MODEL_56abb3abc66b411184cac2993a22d83f"
          }
        },
        "0638457b13c54546bbfa7a1de5c14dd0": {
          "model_module": "@jupyter-widgets/base",
          "model_name": "LayoutModel",
          "model_module_version": "1.2.0",
          "state": {
            "_model_module": "@jupyter-widgets/base",
            "_model_module_version": "1.2.0",
            "_model_name": "LayoutModel",
            "_view_count": null,
            "_view_module": "@jupyter-widgets/base",
            "_view_module_version": "1.2.0",
            "_view_name": "LayoutView",
            "align_content": null,
            "align_items": null,
            "align_self": null,
            "border": null,
            "bottom": null,
            "display": null,
            "flex": null,
            "flex_flow": null,
            "grid_area": null,
            "grid_auto_columns": null,
            "grid_auto_flow": null,
            "grid_auto_rows": null,
            "grid_column": null,
            "grid_gap": null,
            "grid_row": null,
            "grid_template_areas": null,
            "grid_template_columns": null,
            "grid_template_rows": null,
            "height": null,
            "justify_content": null,
            "justify_items": null,
            "left": null,
            "margin": null,
            "max_height": null,
            "max_width": null,
            "min_height": null,
            "min_width": null,
            "object_fit": null,
            "object_position": null,
            "order": null,
            "overflow": null,
            "overflow_x": null,
            "overflow_y": null,
            "padding": null,
            "right": null,
            "top": null,
            "visibility": null,
            "width": null
          }
        },
        "56abb3abc66b411184cac2993a22d83f": {
          "model_module": "@jupyter-widgets/controls",
          "model_name": "ButtonStyleModel",
          "model_module_version": "1.5.0",
          "state": {
            "_model_module": "@jupyter-widgets/controls",
            "_model_module_version": "1.5.0",
            "_model_name": "ButtonStyleModel",
            "_view_count": null,
            "_view_module": "@jupyter-widgets/base",
            "_view_module_version": "1.2.0",
            "_view_name": "StyleView",
            "button_color": null,
            "font_weight": ""
          }
        }
      }
    }
  },
  "cells": [
    {
      "cell_type": "markdown",
      "metadata": {
        "id": "view-in-github",
        "colab_type": "text"
      },
      "source": [
        "<a href=\"https://colab.research.google.com/github/cinthyaejh/CVAmberAlerts/blob/main/ELEN331_project.ipynb\" target=\"_parent\"><img src=\"https://colab.research.google.com/assets/colab-badge.svg\" alt=\"Open In Colab\"/></a>"
      ]
    },
    {
      "cell_type": "markdown",
      "source": [],
      "metadata": {
        "id": "UkrjmxwMsvP3"
      }
    },
    {
      "cell_type": "code",
      "source": [
        "!pip install inference-sdk"
      ],
      "metadata": {
        "colab": {
          "base_uri": "https://localhost:8080/"
        },
        "id": "w_MXLDqGYCNd",
        "outputId": "7e6dc603-b49d-4036-8247-6386cac2a3c7"
      },
      "execution_count": 64,
      "outputs": [
        {
          "output_type": "stream",
          "name": "stdout",
          "text": [
            "Requirement already satisfied: inference-sdk in /usr/local/lib/python3.10/dist-packages (0.9.17)\n",
            "Requirement already satisfied: requests>=2.0.0 in /usr/local/lib/python3.10/dist-packages (from inference-sdk) (2.31.0)\n",
            "Requirement already satisfied: dataclasses-json>=0.6.0 in /usr/local/lib/python3.10/dist-packages (from inference-sdk) (0.6.4)\n",
            "Requirement already satisfied: opencv-python>=4.8.0.0 in /usr/local/lib/python3.10/dist-packages (from inference-sdk) (4.8.0.76)\n",
            "Requirement already satisfied: pillow>=9.0.0 in /usr/local/lib/python3.10/dist-packages (from inference-sdk) (9.4.0)\n",
            "Requirement already satisfied: supervision<1.0.0 in /usr/local/lib/python3.10/dist-packages (from inference-sdk) (0.19.0)\n",
            "Requirement already satisfied: numpy>=1.20.0 in /usr/local/lib/python3.10/dist-packages (from inference-sdk) (1.25.2)\n",
            "Requirement already satisfied: aiohttp>=3.9.0 in /usr/local/lib/python3.10/dist-packages (from inference-sdk) (3.9.3)\n",
            "Requirement already satisfied: backoff>=2.2.0 in /usr/local/lib/python3.10/dist-packages (from inference-sdk) (2.2.1)\n",
            "Requirement already satisfied: aioresponses>=0.7.6 in /usr/local/lib/python3.10/dist-packages (from inference-sdk) (0.7.6)\n",
            "Requirement already satisfied: py-cpuinfo>=9.0.0 in /usr/local/lib/python3.10/dist-packages (from inference-sdk) (9.0.0)\n",
            "Requirement already satisfied: aiosignal>=1.1.2 in /usr/local/lib/python3.10/dist-packages (from aiohttp>=3.9.0->inference-sdk) (1.3.1)\n",
            "Requirement already satisfied: attrs>=17.3.0 in /usr/local/lib/python3.10/dist-packages (from aiohttp>=3.9.0->inference-sdk) (23.2.0)\n",
            "Requirement already satisfied: frozenlist>=1.1.1 in /usr/local/lib/python3.10/dist-packages (from aiohttp>=3.9.0->inference-sdk) (1.4.1)\n",
            "Requirement already satisfied: multidict<7.0,>=4.5 in /usr/local/lib/python3.10/dist-packages (from aiohttp>=3.9.0->inference-sdk) (6.0.5)\n",
            "Requirement already satisfied: yarl<2.0,>=1.0 in /usr/local/lib/python3.10/dist-packages (from aiohttp>=3.9.0->inference-sdk) (1.9.4)\n",
            "Requirement already satisfied: async-timeout<5.0,>=4.0 in /usr/local/lib/python3.10/dist-packages (from aiohttp>=3.9.0->inference-sdk) (4.0.3)\n",
            "Requirement already satisfied: marshmallow<4.0.0,>=3.18.0 in /usr/local/lib/python3.10/dist-packages (from dataclasses-json>=0.6.0->inference-sdk) (3.21.1)\n",
            "Requirement already satisfied: typing-inspect<1,>=0.4.0 in /usr/local/lib/python3.10/dist-packages (from dataclasses-json>=0.6.0->inference-sdk) (0.9.0)\n",
            "Requirement already satisfied: charset-normalizer<4,>=2 in /usr/local/lib/python3.10/dist-packages (from requests>=2.0.0->inference-sdk) (3.3.2)\n",
            "Requirement already satisfied: idna<4,>=2.5 in /usr/local/lib/python3.10/dist-packages (from requests>=2.0.0->inference-sdk) (3.6)\n",
            "Requirement already satisfied: urllib3<3,>=1.21.1 in /usr/local/lib/python3.10/dist-packages (from requests>=2.0.0->inference-sdk) (2.0.7)\n",
            "Requirement already satisfied: certifi>=2017.4.17 in /usr/local/lib/python3.10/dist-packages (from requests>=2.0.0->inference-sdk) (2024.2.2)\n",
            "Requirement already satisfied: defusedxml<0.8.0,>=0.7.1 in /usr/local/lib/python3.10/dist-packages (from supervision<1.0.0->inference-sdk) (0.7.1)\n",
            "Requirement already satisfied: matplotlib>=3.6.0 in /usr/local/lib/python3.10/dist-packages (from supervision<1.0.0->inference-sdk) (3.7.1)\n",
            "Requirement already satisfied: opencv-python-headless>=4.5.5.64 in /usr/local/lib/python3.10/dist-packages (from supervision<1.0.0->inference-sdk) (4.9.0.80)\n",
            "Requirement already satisfied: pyyaml>=5.3 in /usr/local/lib/python3.10/dist-packages (from supervision<1.0.0->inference-sdk) (6.0.1)\n",
            "Requirement already satisfied: scipy<2.0.0,>=1.10.0 in /usr/local/lib/python3.10/dist-packages (from supervision<1.0.0->inference-sdk) (1.11.4)\n",
            "Requirement already satisfied: packaging>=17.0 in /usr/local/lib/python3.10/dist-packages (from marshmallow<4.0.0,>=3.18.0->dataclasses-json>=0.6.0->inference-sdk) (24.0)\n",
            "Requirement already satisfied: contourpy>=1.0.1 in /usr/local/lib/python3.10/dist-packages (from matplotlib>=3.6.0->supervision<1.0.0->inference-sdk) (1.2.0)\n",
            "Requirement already satisfied: cycler>=0.10 in /usr/local/lib/python3.10/dist-packages (from matplotlib>=3.6.0->supervision<1.0.0->inference-sdk) (0.12.1)\n",
            "Requirement already satisfied: fonttools>=4.22.0 in /usr/local/lib/python3.10/dist-packages (from matplotlib>=3.6.0->supervision<1.0.0->inference-sdk) (4.49.0)\n",
            "Requirement already satisfied: kiwisolver>=1.0.1 in /usr/local/lib/python3.10/dist-packages (from matplotlib>=3.6.0->supervision<1.0.0->inference-sdk) (1.4.5)\n",
            "Requirement already satisfied: pyparsing>=2.3.1 in /usr/local/lib/python3.10/dist-packages (from matplotlib>=3.6.0->supervision<1.0.0->inference-sdk) (3.1.2)\n",
            "Requirement already satisfied: python-dateutil>=2.7 in /usr/local/lib/python3.10/dist-packages (from matplotlib>=3.6.0->supervision<1.0.0->inference-sdk) (2.8.2)\n",
            "Requirement already satisfied: mypy-extensions>=0.3.0 in /usr/local/lib/python3.10/dist-packages (from typing-inspect<1,>=0.4.0->dataclasses-json>=0.6.0->inference-sdk) (1.0.0)\n",
            "Requirement already satisfied: typing-extensions>=3.7.4 in /usr/local/lib/python3.10/dist-packages (from typing-inspect<1,>=0.4.0->dataclasses-json>=0.6.0->inference-sdk) (4.10.0)\n",
            "Requirement already satisfied: six>=1.5 in /usr/local/lib/python3.10/dist-packages (from python-dateutil>=2.7->matplotlib>=3.6.0->supervision<1.0.0->inference-sdk) (1.16.0)\n"
          ]
        }
      ]
    },
    {
      "cell_type": "code",
      "source": [
        "#button to upload photo and display it\n",
        "import ipywidgets as widgets\n",
        "from IPython.display import display\n",
        "from PIL import Image\n",
        "import io\n",
        "\n",
        "test_image = None\n",
        "test_path = None\n",
        "\n",
        "uploader = widgets.FileUpload(\n",
        "    accept='image/*',\n",
        "    multiple=False\n",
        ")\n",
        "\n",
        "\n",
        "def upload(change):\n",
        "    if not uploader.value:\n",
        "        return\n",
        "\n",
        "    uploaded_file = next(iter(uploader.value.values()))\n",
        "    content = uploaded_file['content']\n",
        "    test_image = Image.open(io.BytesIO(content))\n",
        "    display(test_image)\n",
        "    test_image.save('test.jpg')\n",
        "\n",
        "uploader.observe(upload, names='value')\n",
        "\n",
        "\n",
        "display(uploader)"
      ],
      "metadata": {
        "colab": {
          "base_uri": "https://localhost:8080/",
          "height": 288,
          "referenced_widgets": [
            "41a481c5a34f46d38436b3d0bd96c145",
            "0638457b13c54546bbfa7a1de5c14dd0",
            "56abb3abc66b411184cac2993a22d83f"
          ]
        },
        "id": "p7hutTM1W8Lq",
        "outputId": "296ea2a4-e164-4fb9-9f01-9dfcb8947de4"
      },
      "execution_count": 132,
      "outputs": [
        {
          "output_type": "display_data",
          "data": {
            "text/plain": [
              "FileUpload(value={}, accept='image/*', description='Upload')"
            ],
            "application/vnd.jupyter.widget-view+json": {
              "version_major": 2,
              "version_minor": 0,
              "model_id": "41a481c5a34f46d38436b3d0bd96c145"
            }
          },
          "metadata": {}
        },
        {
          "output_type": "display_data",
          "data": {
            "text/plain": [
              "<PIL.JpegImagePlugin.JpegImageFile image mode=RGB size=249x239>"
            ],
            "image/png": "[encoded data removed]"
          },
          "metadata": {}
        }
      ]
    },
    {
      "cell_type": "code",
      "source": [
        "test_path = \"/content/test.jpg\"\n",
        "print(f\"path of test image {test_path}\")"
      ],
      "metadata": {
        "colab": {
          "base_uri": "https://localhost:8080/"
        },
        "id": "7_ZpkcWo6-2N",
        "outputId": "aca3f0df-71a0-4c00-c0bd-489448984a55"
      },
      "execution_count": 133,
      "outputs": [
        {
          "output_type": "stream",
          "name": "stdout",
          "text": [
            "path of test image /content/test.jpg\n"
          ]
        }
      ]
    },
    {
      "cell_type": "code",
      "source": [
        "#roboflow ML model used to detect plate: https://universe.roboflow.com/test-pj04p/licenseplate-apu6u/model/1\n",
        "#detect plate and crop image\n",
        "from inference_sdk import InferenceHTTPClient\n",
        "\n",
        "CLIENT = InferenceHTTPClient(\n",
        "    api_url=\"https://detect.roboflow.com\",\n",
        "    api_key=\"piM7eEuj3vEZwnMHJyAC\"\n",
        ")\n",
        "\n",
        "license = CLIENT.infer(test_path, model_id=\"licenseplate-apu6u/1\")\n",
        "print(\"License\", license)\n",
        "\n",
        "predictions = license['predictions']\n",
        "if (len(predictions) > 0):\n",
        "  prediction = predictions[0]\n",
        "\n",
        "  x = prediction['x']\n",
        "  y = prediction['y']\n",
        "  width = prediction['width']\n",
        "  height = prediction['height']\n",
        "  print(f\"License position: x={x}, y={y}, width={width}, height={height}\")\n",
        "else:\n",
        "  print(\"Cannot determine license position\")"
      ],
      "metadata": {
        "colab": {
          "base_uri": "https://localhost:8080/"
        },
        "id": "5AoN8sBIcaH_",
        "outputId": "adc41d05-7738-466e-c989-6ddbcabb09a5"
      },
      "execution_count": 134,
      "outputs": [
        {
          "output_type": "stream",
          "name": "stdout",
          "text": [
            "License {'time': 0.02842929300004471, 'image': {'width': 249, 'height': 239}, 'predictions': [{'x': 78.5, 'y': 142.5, 'width': 117.0, 'height': 33.0, 'confidence': 0.8667287826538086, 'class': 'plate - v2 2023-10-17 6-21pm', 'class_id': 2, 'detection_id': '689686e8-7f8a-4151-b718-be1609267621'}]}\n",
            "License position: x=78.5, y=142.5, width=117.0, height=33.0\n"
          ]
        }
      ]
    },
    {
      "cell_type": "code",
      "source": [
        "#crop the image based on the detection\n",
        "from PIL import Image, ImageDraw\n",
        "\n",
        "test_image = Image.open(test_path)\n",
        "\n",
        "def crop_image(image, x, y, width, height):\n",
        "    # Calculate the bottom right corner of the detection box from center position\n",
        "    left = x - (width / 2)\n",
        "    upper = y - (height / 2)\n",
        "    right = x + (width / 2)\n",
        "    lower = y + (height / 2)\n",
        "    cropped_test = image.crop((left, upper, right, lower))\n",
        "    return cropped_test\n",
        "\n",
        "cropped_test = crop_image(test_image, x, y, width, height)\n",
        "display(cropped_test)\n",
        "cropped_test.save('cropped_test.jpg')\n",
        "\n",
        "cropped_path = \"/content/cropped_test.jpg\""
      ],
      "metadata": {
        "colab": {
          "base_uri": "https://localhost:8080/",
          "height": 50
        },
        "id": "wXosjHkshmQh",
        "outputId": "d47f792b-ccff-493e-a005-bc516bb1e6ca"
      },
      "execution_count": 135,
      "outputs": [
        {
          "output_type": "display_data",
          "data": {
            "text/plain": [
              "<PIL.Image.Image image mode=RGB size=117x33>"
            ],
            "image/png": "[encoded data removed]"
          },
          "metadata": {}
        }
      ]
    },
    {
      "cell_type": "code",
      "source": [
        "#roboflow ML model used to determine license plate numbers: https://universe.roboflow.com/franz-bpzvh/license-ocr-qqq6v/model/1\n",
        "#can switch to https://universe.roboflow.com/anpr-ci0ri/dheeraj/model/2\n",
        "from inference_sdk import InferenceHTTPClient\n",
        "\n",
        "CLIENT = InferenceHTTPClient(\n",
        "    api_url=\"https://detect.roboflow.com\",\n",
        "    api_key=\"piM7eEuj3vEZwnMHJyAC\"\n",
        ")\n",
        "\n",
        "license_number = CLIENT.infer(cropped_path, model_id=\"license-ocr-qqq6v/3\")\n",
        "\n",
        "print(\"License Plate:\", license_number)\n",
        "license_plate_number = ''\n",
        "total_confidence = 0\n",
        "\n",
        "if len(license_number['predictions']) > 0:\n",
        "  sorted_predictions = sorted(license_number['predictions'], key=lambda k: k['x'])\n",
        "  for prediction in sorted_predictions:\n",
        "    license_plate_number += prediction['class']\n",
        "    total_confidence += prediction['confidence']\n",
        "    average_confidence = total_confidence / len(sorted_predictions)*100\n",
        "  print(f\"Full license plate number: {license_plate_number}\")\n",
        "  print(f\"Average confidence percentage: {average_confidence:.4f}\")\n",
        "else:\n",
        "  print(\"Not able to determine car license plate number\")"
      ],
      "metadata": {
        "id": "7dq09PjIZJi8",
        "colab": {
          "base_uri": "https://localhost:8080/"
        },
        "outputId": "cd11015b-8053-470e-be64-8a6abee20b77"
      },
      "execution_count": 136,
      "outputs": [
        {
          "output_type": "stream",
          "name": "stdout",
          "text": [
            "License Plate: {'time': 0.2099927360000038, 'image': {'width': 117, 'height': 33}, 'predictions': [{'x': 99.0, 'y': 20.0, 'width': 10.0, 'height': 22.0, 'confidence': 0.8799598217010498, 'class': '0', 'class_id': 0, 'detection_id': 'a12f5a6e-d13e-413f-902c-0cf697055578'}, {'x': 110.5, 'y': 20.0, 'width': 11.0, 'height': 22.0, 'confidence': 0.8458883166313171, 'class': '0', 'class_id': 0, 'detection_id': '1f5ca750-a369-4682-b218-d8465399422a'}, {'x': 87.5, 'y': 19.5, 'width': 11.0, 'height': 23.0, 'confidence': 0.8272911310195923, 'class': '3', 'class_id': 3, 'detection_id': '2f670161-9160-47f2-b7d2-a7139db83892'}]}\n",
            "Full license plate number: 300\n",
            "Average confidence percentage: 85.1046\n"
          ]
        }
      ]
    },
    {
      "cell_type": "code",
      "source": [
        "#roboflow ML model used to classify color: https://universe.roboflow.com/search?q=car+color+model\n",
        "from inference_sdk import InferenceHTTPClient\n",
        "\n",
        "CLIENT = InferenceHTTPClient(\n",
        "    api_url=\"https://classify.roboflow.com\",\n",
        "    api_key=\"piM7eEuj3vEZwnMHJyAC\"\n",
        ")\n",
        "\n",
        "result = CLIENT.infer(test_path, model_id=\"carcolor-r22ys/2\")\n",
        "print(\"Result color\", result)\n",
        "\n",
        "if len(result['predictions']) > 0:\n",
        "  color_confidence = [(color, details['confidence']) for color, details in result['predictions'].items()]\n",
        "  sorted_colors= sorted(color_confidence, key=lambda x: x[1], reverse=True)\n",
        "  color = sorted_colors[0][0]\n",
        "  cconfidence = sorted_colors[0][1]*100\n",
        "  print(f\"Color with the highest confidence: {color} ({cconfidence:.4f})\")\n",
        "else:\n",
        "  print(\"Not able to determine car color\")\n",
        "  color = ''"
      ],
      "metadata": {
        "colab": {
          "base_uri": "https://localhost:8080/"
        },
        "id": "KdLUc21wiE53",
        "outputId": "23f2c98e-50b7-4cba-e85e-3493062a19eb"
      },
      "execution_count": 141,
      "outputs": [
        {
          "output_type": "stream",
          "name": "stdout",
          "text": [
            "Result color {'time': 0.10543536900001982, 'image': {'width': 239, 'height': 249}, 'predictions': {'Black': {'confidence': 0.08631263673305511}, 'Blue': {'confidence': 0.06612880527973175}, 'Brown': {'confidence': 0.07877682149410248}, 'Crimson': {'confidence': 0.6321831941604614}, 'Gray': {'confidence': 0.08773209154605865}, 'Green': {'confidence': 0.10629469901323318}, 'Orange': {'confidence': 0.0976652130484581}, 'Purple': {'confidence': 0.13436059653759003}, 'Red': {'confidence': 0.12304309010505676}, 'Silver': {'confidence': 0.06762261688709259}, 'White': {'confidence': 0.07630178332328796}, 'Yellow': {'confidence': 0.09702597558498383}}, 'predicted_classes': ['Crimson']}\n",
            "Color with the highest confidence: Crimson (63.2183)\n"
          ]
        }
      ]
    },
    {
      "cell_type": "code",
      "source": [
        "#roboflow ML model used to classify car model: https://universe.roboflow.com/auca/car_models/\n",
        "from inference_sdk import InferenceHTTPClient\n",
        "\n",
        "CLIENT = InferenceHTTPClient(\n",
        "    api_url=\"https://detect.roboflow.com\",\n",
        "    api_key=\"piM7eEuj3vEZwnMHJyAC\"\n",
        ")\n",
        "\n",
        "result = CLIENT.infer(test_path, model_id=\"car_models/1\")\n",
        "\n",
        "print(result)\n",
        "predictions = result['predictions']\n",
        "\n",
        "if len(predictions) > 0:\n",
        "  prediction = predictions[0]\n",
        "  make = prediction['class']\n",
        "  mconfidence = prediction['confidence']*100\n",
        "  print(f\"Make with the highest confidence: {make} ({mconfidence:.4f})\")\n",
        "else:\n",
        "  print(\"Not able to determine model car\")\n",
        "  make = ''\n"
      ],
      "metadata": {
        "colab": {
          "base_uri": "https://localhost:8080/"
        },
        "id": "dg_8Or11r7Z7",
        "outputId": "1a60e7c6-577e-443c-9941-be30816aece8"
      },
      "execution_count": 143,
      "outputs": [
        {
          "output_type": "stream",
          "name": "stdout",
          "text": [
            "{'time': 0.05444033599997056, 'image': {'width': 249, 'height': 239}, 'predictions': []}\n",
            "Not able to determine model car\n"
          ]
        }
      ]
    },
    {
      "cell_type": "code",
      "source": [
        "#Info on Amber Alert\n",
        "\n",
        "amber_make = 'Hyundai 2003'\n",
        "amber_color = 'Crimson'\n",
        "amber_plate = '4F3339'\n",
        "\n",
        "'''\n",
        "amber_make = 'Volswagen'\n",
        "amber_color = 'black'\n",
        "amber_plate = '77ZFK8'\n",
        "'''\n",
        "'''\n",
        "amber_make = 'Chevrolet Malibu Sedan 2007'\n",
        "amber_color = 'Gray'\n",
        "amber_plate = '78ZFH8'\n",
        "'''"
      ],
      "metadata": {
        "id": "fU90FAfNv_O9",
        "colab": {
          "base_uri": "https://localhost:8080/",
          "height": 35
        },
        "outputId": "457e282c-b7f3-47c2-9657-3ae82280eafa"
      },
      "execution_count": 144,
      "outputs": [
        {
          "output_type": "execute_result",
          "data": {
            "text/plain": [
              "\"\\namber_make = 'Chevrolet Malibu Sedan 2007'\\namber_color = 'Gray'\\namber_plate = '78ZFH8'\\n\""
            ],
            "application/vnd.google.colaboratory.intrinsic+json": {
              "type": "string"
            }
          },
          "metadata": {},
          "execution_count": 144
        }
      ]
    },
    {
      "cell_type": "code",
      "source": [
        "#compare and output matching % confidence\n",
        "'''\n",
        "0 -> matches\n",
        "1 -> does not match\n",
        "2 -> cannot determine\n",
        "'''\n",
        "#first check license plate, otherwise do make of car and color\n",
        "if (average_confidence > 50 and len(license_plate_number) == len(amber_plate)):\n",
        "  if amber_plate == license_plate_number:\n",
        "    plate_match = 0\n",
        "  else:\n",
        "    plate_match = 1\n",
        "else:\n",
        "    plate_match = 2\n",
        "\n",
        "if(plate_match != 0):\n",
        "  if (mconfidence > 50 and len(make) > 0):\n",
        "    if (amber_make == make):\n",
        "     make_match = 0\n",
        "    else:\n",
        "     make_match = 1\n",
        "  else:\n",
        "    make_match = 2\n",
        "\n",
        "  if (cconfidence > 50 and len(color) > 0):\n",
        "    if (amber_color == color):\n",
        "     color_match = 0\n",
        "    else:\n",
        "     color_match = 1\n",
        "  else:\n",
        "     color_match = 2\n",
        "\n",
        "  matching = make_match + color_match\n",
        "  prob = mconfidence * cconfidence\n",
        "  if (matching == 0):\n",
        "    print(f\"{prob:.4f}% confident car make and color match! Could be car is amber alert car\")\n",
        "  elif (matching == 1 or matching == 3):\n",
        "    print(f\"{prob:.4f}% confident car make and color match don't match! It is not likely to be amber alert car\")\n",
        "  elif (matching == 4):\n",
        "    print(\"Cannot determine if car matches amber alert car\")\n",
        "  else: # matching == 2\n",
        "    if(color_match == 0):\n",
        "       print (f\"{cconfidence:.4f}% confident that car color matches, but cannot determine other attributes\")\n",
        "    elif (make_match == 0):\n",
        "       print (f\"{mconfidence:.4f}% confident that car make matches, but cannot determine other attributes\")\n",
        "    else: #make_match == 1 and color_match == 1\n",
        "      print (f\"{prob:.4f}% confident that car make nor color matches, It is not likely to be amber alert car\")\n",
        "else:\n",
        "  print(f\"Plates match! {average_confidence:.4f}% confident car is amber alert car\")\n"
      ],
      "metadata": {
        "colab": {
          "base_uri": "https://localhost:8080/"
        },
        "id": "u8sOnoUzve4c",
        "outputId": "5fa7330b-fe51-4433-a171-84c0e3497a5d"
      },
      "execution_count": 145,
      "outputs": [
        {
          "output_type": "stream",
          "name": "stdout",
          "text": [
            "63.2183% confident that car color matches, but cannot determine other attributes\n"
          ]
        }
      ]
    },
    {
      "cell_type": "markdown",
      "source": [
        "Car-model-detection data set got from: https://universe.roboflow.com/mxk/car-model-detection/dataset/1#\n",
        "Car license plate data sett from:\n",
        "https://universe.roboflow.com/fc-yaew5/lic-plate-ocr/dataset/2\n",
        "\n",
        "\n",
        "Potential:\n",
        "https://www.kaggle.com/code/aslanahmedov/automatic-number-plate-recognition/notebook#8.2-DATA-PREPARATION"
      ],
      "metadata": {
        "id": "ggCgROO6X1WR"
      }
    },
    {
      "cell_type": "markdown",
      "source": [
        "# Code based from lab on how to train YOLO in case need to train own ML models\n"
      ],
      "metadata": {
        "id": "J5lzZyqQw-tT"
      }
    },
    {
      "cell_type": "code",
      "source": [
        "# Install YOLOv8 from ultralytics\n",
        "!pip install ultralytics\n",
        "\n",
        "# Car make dataseet from Roboflow\n",
        "!curl -L \"https://universe.roboflow.com/ds/UC5WbIS3s0?key=zyN5aqK966\"> roboflow.zip; unzip roboflow.zip; rm roboflow.zip\n",
        "#https://universe.roboflow.com/project-sm0jj/car-identification-pvyvi"
      ],
      "metadata": {
        "colab": {
          "base_uri": "https://localhost:8080/"
        },
        "id": "yAmQXtrrduLL",
        "outputId": "ea9668cc-8635-4186-c976-cfc30480a805"
      },
      "execution_count": null,
      "outputs": [
        {
          "output_type": "stream",
          "name": "stdout",
          "text": [
            "Requirement already satisfied: ultralytics in /usr/local/lib/python3.10/dist-packages (8.1.25)\n",
            "Requirement already satisfied: matplotlib>=3.3.0 in /usr/local/lib/python3.10/dist-packages (from ultralytics) (3.7.1)\n",
            "Requirement already satisfied: opencv-python>=4.6.0 in /usr/local/lib/python3.10/dist-packages (from ultralytics) (4.8.0.76)\n",
            "Requirement already satisfied: pillow>=7.1.2 in /usr/local/lib/python3.10/dist-packages (from ultralytics) (9.4.0)\n",
            "Requirement already satisfied: pyyaml>=5.3.1 in /usr/local/lib/python3.10/dist-packages (from ultralytics) (6.0.1)\n",
            "Requirement already satisfied: requests>=2.23.0 in /usr/local/lib/python3.10/dist-packages (from ultralytics) (2.31.0)\n",
            "Requirement already satisfied: scipy>=1.4.1 in /usr/local/lib/python3.10/dist-packages (from ultralytics) (1.11.4)\n",
            "Requirement already satisfied: torch>=1.8.0 in /usr/local/lib/python3.10/dist-packages (from ultralytics) (2.1.0+cu121)\n",
            "Requirement already satisfied: torchvision>=0.9.0 in /usr/local/lib/python3.10/dist-packages (from ultralytics) (0.16.0+cu121)\n",
            "Requirement already satisfied: tqdm>=4.64.0 in /usr/local/lib/python3.10/dist-packages (from ultralytics) (4.66.2)\n",
            "Requirement already satisfied: psutil in /usr/local/lib/python3.10/dist-packages (from ultralytics) (5.9.5)\n",
            "Requirement already satisfied: py-cpuinfo in /usr/local/lib/python3.10/dist-packages (from ultralytics) (9.0.0)\n",
            "Requirement already satisfied: thop>=0.1.1 in /usr/local/lib/python3.10/dist-packages (from ultralytics) (0.1.1.post2209072238)\n",
            "Requirement already satisfied: pandas>=1.1.4 in /usr/local/lib/python3.10/dist-packages (from ultralytics) (1.5.3)\n",
            "Requirement already satisfied: seaborn>=0.11.0 in /usr/local/lib/python3.10/dist-packages (from ultralytics) (0.13.1)\n",
            "Requirement already satisfied: contourpy>=1.0.1 in /usr/local/lib/python3.10/dist-packages (from matplotlib>=3.3.0->ultralytics) (1.2.0)\n",
            "Requirement already satisfied: cycler>=0.10 in /usr/local/lib/python3.10/dist-packages (from matplotlib>=3.3.0->ultralytics) (0.10.0)\n",
            "Requirement already satisfied: fonttools>=4.22.0 in /usr/local/lib/python3.10/dist-packages (from matplotlib>=3.3.0->ultralytics) (4.49.0)\n",
            "Requirement already satisfied: kiwisolver>=1.0.1 in /usr/local/lib/python3.10/dist-packages (from matplotlib>=3.3.0->ultralytics) (1.4.5)\n",
            "Requirement already satisfied: numpy>=1.20 in /usr/local/lib/python3.10/dist-packages (from matplotlib>=3.3.0->ultralytics) (1.25.2)\n",
            "Requirement already satisfied: packaging>=20.0 in /usr/local/lib/python3.10/dist-packages (from matplotlib>=3.3.0->ultralytics) (23.2)\n",
            "Requirement already satisfied: pyparsing>=2.3.1 in /usr/local/lib/python3.10/dist-packages (from matplotlib>=3.3.0->ultralytics) (3.1.1)\n",
            "Requirement already satisfied: python-dateutil>=2.7 in /usr/local/lib/python3.10/dist-packages (from matplotlib>=3.3.0->ultralytics) (2.8.2)\n",
            "Requirement already satisfied: pytz>=2020.1 in /usr/local/lib/python3.10/dist-packages (from pandas>=1.1.4->ultralytics) (2023.4)\n",
            "Requirement already satisfied: charset-normalizer<4,>=2 in /usr/local/lib/python3.10/dist-packages (from requests>=2.23.0->ultralytics) (3.3.2)\n",
            "Requirement already satisfied: idna<4,>=2.5 in /usr/local/lib/python3.10/dist-packages (from requests>=2.23.0->ultralytics) (2.10)\n",
            "Requirement already satisfied: urllib3<3,>=1.21.1 in /usr/local/lib/python3.10/dist-packages (from requests>=2.23.0->ultralytics) (2.0.7)\n",
            "Requirement already satisfied: certifi>=2017.4.17 in /usr/local/lib/python3.10/dist-packages (from requests>=2.23.0->ultralytics) (2023.7.22)\n",
            "Requirement already satisfied: filelock in /usr/local/lib/python3.10/dist-packages (from torch>=1.8.0->ultralytics) (3.13.1)\n",
            "Requirement already satisfied: typing-extensions in /usr/local/lib/python3.10/dist-packages (from torch>=1.8.0->ultralytics) (4.10.0)\n",
            "Requirement already satisfied: sympy in /usr/local/lib/python3.10/dist-packages (from torch>=1.8.0->ultralytics) (1.12)\n",
            "Requirement already satisfied: networkx in /usr/local/lib/python3.10/dist-packages (from torch>=1.8.0->ultralytics) (3.2.1)\n",
            "Requirement already satisfied: jinja2 in /usr/local/lib/python3.10/dist-packages (from torch>=1.8.0->ultralytics) (3.1.3)\n",
            "Requirement already satisfied: fsspec in /usr/local/lib/python3.10/dist-packages (from torch>=1.8.0->ultralytics) (2023.6.0)\n",
            "Requirement already satisfied: triton==2.1.0 in /usr/local/lib/python3.10/dist-packages (from torch>=1.8.0->ultralytics) (2.1.0)\n",
            "Requirement already satisfied: six in /usr/local/lib/python3.10/dist-packages (from cycler>=0.10->matplotlib>=3.3.0->ultralytics) (1.16.0)\n",
            "Requirement already satisfied: MarkupSafe>=2.0 in /usr/local/lib/python3.10/dist-packages (from jinja2->torch>=1.8.0->ultralytics) (2.1.5)\n",
            "Requirement already satisfied: mpmath>=0.19 in /usr/local/lib/python3.10/dist-packages (from sympy->torch>=1.8.0->ultralytics) (1.3.0)\n",
            "  % Total    % Received % Xferd  Average Speed   Time    Time     Time  Current\n",
            "                                 Dload  Upload   Total   Spent    Left  Speed\n",
            "100   903  100   903    0     0   3432      0 --:--:-- --:--:-- --:--:--  3433\n",
            "100  250M  100  250M    0     0  51.2M      0  0:00:04  0:00:04 --:--:-- 54.7M\n",
            "Archive:  roboflow.zip\n",
            "replace README.dataset.txt? [y]es, [n]o, [A]ll, [N]one, [r]ename: "
          ]
        }
      ]
    },
    {
      "cell_type": "code",
      "execution_count": 1,
      "metadata": {
        "colab": {
          "base_uri": "https://localhost:8080/",
          "height": 211
        },
        "id": "8KwTWk5kJ6ka",
        "outputId": "b4c22a81-09be-433c-9166-5e8fa8ffa9f2"
      },
      "outputs": [
        {
          "output_type": "error",
          "ename": "FileNotFoundError",
          "evalue": "[Errno 2] No such file or directory: './export/images'",
          "traceback": [
            "\u001b[0;31m---------------------------------------------------------------------------\u001b[0m",
            "\u001b[0;31mFileNotFoundError\u001b[0m                         Traceback (most recent call last)",
            "\u001b[0;32m<ipython-input-1-c6ec9d6db45e>\u001b[0m in \u001b[0;36m<cell line: 30>\u001b[0;34m()\u001b[0m\n\u001b[1;32m     28\u001b[0m \u001b[0;31m# Get the list of image files in the \"images\" folder\u001b[0m\u001b[0;34m\u001b[0m\u001b[0;34m\u001b[0m\u001b[0m\n\u001b[1;32m     29\u001b[0m \u001b[0mimage_folder_path\u001b[0m \u001b[0;34m=\u001b[0m \u001b[0mos\u001b[0m\u001b[0;34m.\u001b[0m\u001b[0mpath\u001b[0m\u001b[0;34m.\u001b[0m\u001b[0mjoin\u001b[0m\u001b[0;34m(\u001b[0m\u001b[0mexport_path\u001b[0m\u001b[0;34m,\u001b[0m \u001b[0;34m\"images\"\u001b[0m\u001b[0;34m)\u001b[0m\u001b[0;34m\u001b[0m\u001b[0;34m\u001b[0m\u001b[0m\n\u001b[0;32m---> 30\u001b[0;31m \u001b[0mimage_files\u001b[0m \u001b[0;34m=\u001b[0m \u001b[0;34m[\u001b[0m\u001b[0mf\u001b[0m \u001b[0;32mfor\u001b[0m \u001b[0mf\u001b[0m \u001b[0;32min\u001b[0m \u001b[0mos\u001b[0m\u001b[0;34m.\u001b[0m\u001b[0mlistdir\u001b[0m\u001b[0;34m(\u001b[0m\u001b[0mimage_folder_path\u001b[0m\u001b[0;34m)\u001b[0m \u001b[0;32mif\u001b[0m \u001b[0mf\u001b[0m\u001b[0;34m.\u001b[0m\u001b[0mendswith\u001b[0m\u001b[0;34m(\u001b[0m\u001b[0;34m(\u001b[0m\u001b[0;34m'.jpg'\u001b[0m\u001b[0;34m,\u001b[0m \u001b[0;34m'.png'\u001b[0m\u001b[0;34m)\u001b[0m\u001b[0;34m)\u001b[0m\u001b[0;34m]\u001b[0m\u001b[0;34m\u001b[0m\u001b[0;34m\u001b[0m\u001b[0m\n\u001b[0m\u001b[1;32m     31\u001b[0m \u001b[0;34m\u001b[0m\u001b[0m\n\u001b[1;32m     32\u001b[0m \u001b[0;31m# Randomly shuffle the list of image files\u001b[0m\u001b[0;34m\u001b[0m\u001b[0;34m\u001b[0m\u001b[0m\n",
            "\u001b[0;31mFileNotFoundError\u001b[0m: [Errno 2] No such file or directory: './export/images'"
          ]
        }
      ],
      "source": [
        "import os\n",
        "import shutil\n",
        "import random\n",
        "\n",
        "# Set the path to your \"export\" folder\n",
        "export_path = \"./export\"\n",
        "\n",
        "# Set the path to the new folders (train, val, test)\n",
        "train_path = \"./train\"\n",
        "val_path = \"./val\"\n",
        "test_path = \"./test\"\n",
        "\n",
        "# Set the split ratios (adjust as needed)\n",
        "train_ratio = 0.8  # 80% for training\n",
        "val_ratio = 0.1    # 10% for validation\n",
        "test_ratio = 0.1   # 10% for testing\n",
        "\n",
        "# Create the new folders if they don't exist\n",
        "os.makedirs(os.path.join(train_path, \"images\"), exist_ok=True)\n",
        "os.makedirs(os.path.join(train_path, \"labels\"), exist_ok=True)\n",
        "os.makedirs(os.path.join(val_path, \"images\"), exist_ok=True)\n",
        "os.makedirs(os.path.join(val_path, \"labels\"), exist_ok=True)\n",
        "os.makedirs(os.path.join(test_path, \"images\"), exist_ok=True)\n",
        "os.makedirs(os.path.join(test_path, \"labels\"), exist_ok=True)\n",
        "# os.makedirs(val_path, exist_ok=True)\n",
        "# os.makedirs(test_path, exist_ok=True)\n",
        "\n",
        "# Get the list of image files in the \"images\" folder\n",
        "image_folder_path = os.path.join(export_path, \"images\")\n",
        "image_files = [f for f in os.listdir(image_folder_path) if f.endswith(('.jpg', '.png'))]\n",
        "\n",
        "# Randomly shuffle the list of image files\n",
        "random.shuffle(image_files)\n",
        "\n",
        "# Calculate the number of images for each split\n",
        "num_images = len(image_files)\n",
        "num_train = int(train_ratio * num_images)\n",
        "num_val = int(val_ratio * num_images)\n",
        "num_test = int(test_ratio * num_images)\n",
        "\n",
        "# Split the image files\n",
        "train_images = image_files[:num_train]\n",
        "val_images = image_files[num_train:num_train + num_val]\n",
        "test_images = image_files[num_train + num_val:]\n",
        "\n",
        "# Move the images to their respective folders\n",
        "for img in train_images:\n",
        "    shutil.move(os.path.join(image_folder_path, img), os.path.join(os.path.join(train_path, \"images\"), img))\n",
        "\n",
        "for img in val_images:\n",
        "    shutil.move(os.path.join(image_folder_path, img), os.path.join(os.path.join(val_path, \"images\"), img))\n",
        "\n",
        "for img in test_images:\n",
        "    shutil.move(os.path.join(image_folder_path, img), os.path.join(os.path.join(test_path, \"images\"), img))\n",
        "\n",
        "# Repeat the same process for the \"labels\" folder\n",
        "\n",
        "label_folder_path = os.path.join(export_path, \"labels\")\n",
        "\n",
        "# Move the label files to their respective folders\n",
        "for lbl in train_images:\n",
        "    lbl = lbl.replace('.jpg', '.txt')\n",
        "    shutil.move(os.path.join(label_folder_path, lbl), os.path.join(os.path.join(train_path, \"labels\"), lbl))\n",
        "\n",
        "for lbl in val_images:\n",
        "    lbl = lbl.replace('.jpg', '.txt')\n",
        "    shutil.move(os.path.join(label_folder_path, lbl), os.path.join(os.path.join(val_path, \"labels\"), lbl))\n",
        "\n",
        "for lbl in test_images:\n",
        "    lbl = lbl.replace('.jpg', '.txt')\n",
        "    shutil.move(os.path.join(label_folder_path, lbl), os.path.join(os.path.join(test_path, \"labels\"), lbl))\n",
        "\n"
      ]
    },
    {
      "cell_type": "code",
      "source": [
        "from ultralytics import YOLO\n",
        "\n",
        "# Load YOLOv8 model\n",
        "model = YOLO(\"yolov8n.pt\")  # load a pretrained model\n",
        "\n",
        "# Use the model\n",
        "model.train(data=\"data.yaml\", epochs=3)  # train the model\n",
        "metrics = model.val()  # evaluate model performance on the validation set"
      ],
      "metadata": {
        "id": "_Q8puFyUK_yx"
      },
      "execution_count": null,
      "outputs": []
    },
    {
      "cell_type": "code",
      "source": [
        "model.val()"
      ],
      "metadata": {
        "id": "VyDW-6XSKyNh"
      },
      "execution_count": null,
      "outputs": []
    },
    {
      "cell_type": "code",
      "source": [
        "import matplotlib.pyplot as plt\n",
        "import numpy as np\n",
        "\n",
        "# Provided class names and mAP scores\n",
        "class_names = ['biker', 'car', 'pedestrian', 'trafficLight', 'trafficLight-Green', 'trafficLight-GreenLeft', 'trafficLight-Red', 'trafficLight-RedLeft', 'trafficLight-Yellow', 'trafficLight-YellowLeft', 'truck']\n",
        "map_scores = np.array([0.25673, 0.49796, 0.21227, 0.248, 0.18836, 0.069847, 0.32001, 0.34009, 0.019975, 0, 0.46942])\n",
        "\n",
        "# Overall metrics\n",
        "overall_precision = 0.7306617418898251\n",
        "overall_recall = 0.4009649872960393\n",
        "overall_map50 = 0.45983270610938426\n",
        "overall_map50_95 = 0.2384235722121747\n",
        "\n",
        "# Plotting mAP scores by class\n",
        "plt.figure(figsize=(14, 7))\n",
        "\n",
        "# Bar chart for mAP@50\n",
        "plt.subplot(1, 2, 1)\n",
        "plt.bar(class_names, map_scores, color='skyblue')\n",
        "plt.title('mAP Scores by Class')\n",
        "plt.xlabel('Class')\n",
        "plt.ylabel('mAP')\n",
        "plt.xticks(rotation=45, ha=\"right\")\n",
        "\n",
        "# Adding overall mAP@50 and mAP@50-95 to the plot\n",
        "plt.subplot(1, 2, 2)\n",
        "metrics = ['Precision', 'Recall', 'mAP@50', 'mAP@50-95']\n",
        "values = [overall_precision, overall_recall, overall_map50, overall_map50_95]\n",
        "plt.bar(metrics, values, color=['blue', 'orange', 'green', 'red'])\n",
        "plt.title('Overall Detection Metrics')\n",
        "plt.ylabel('Value')\n",
        "\n",
        "plt.tight_layout()\n",
        "plt.show()\n"
      ],
      "metadata": {
        "id": "ecNLSmb-KyZr"
      },
      "execution_count": null,
      "outputs": []
    }
  ]
}